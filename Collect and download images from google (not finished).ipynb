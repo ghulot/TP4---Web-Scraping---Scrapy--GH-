{
 "cells": [
  {
   "cell_type": "code",
   "execution_count": 2,
   "id": "f554e603",
   "metadata": {},
   "outputs": [],
   "source": [
    "from selenium import webdriver\n",
    "from selenium.webdriver.common.by import By"
   ]
  },
  {
   "cell_type": "code",
   "execution_count": 16,
   "id": "33054c27",
   "metadata": {},
   "outputs": [
    {
     "name": "stderr",
     "output_type": "stream",
     "text": [
      "C:\\Users\\ghulo\\AppData\\Local\\Temp\\ipykernel_12604\\2374759669.py:1: DeprecationWarning: executable_path has been deprecated, please pass in a Service object\n",
      "  driver = webdriver.Chrome('./chromedriver')\n"
     ]
    }
   ],
   "source": [
    "driver = webdriver.Chrome('./chromedriver')\n",
    "driver.get('https://ecole-ipssi.com/')"
   ]
  },
  {
   "cell_type": "code",
   "execution_count": 21,
   "id": "85330ebe",
   "metadata": {},
   "outputs": [
    {
     "data": {
      "text/plain": [
       "[<selenium.webdriver.remote.webelement.WebElement (session=\"509bffa4e889110eaa42690fd04d7153\", element=\"c8416e42-19b6-46ab-a340-3bad4fdb53ba\")>,\n",
       " <selenium.webdriver.remote.webelement.WebElement (session=\"509bffa4e889110eaa42690fd04d7153\", element=\"0e2dca97-512e-4120-bbd0-1739bcc58b4e\")>,\n",
       " <selenium.webdriver.remote.webelement.WebElement (session=\"509bffa4e889110eaa42690fd04d7153\", element=\"acec89ae-6412-41a4-9e4c-99b9141d9953\")>,\n",
       " <selenium.webdriver.remote.webelement.WebElement (session=\"509bffa4e889110eaa42690fd04d7153\", element=\"46899061-972a-46c9-b711-82d38ef166af\")>,\n",
       " <selenium.webdriver.remote.webelement.WebElement (session=\"509bffa4e889110eaa42690fd04d7153\", element=\"13a31465-2335-4d24-9cfc-a33907166399\")>,\n",
       " <selenium.webdriver.remote.webelement.WebElement (session=\"509bffa4e889110eaa42690fd04d7153\", element=\"1fda1520-737a-4bc4-98d1-d4f1fc59002d\")>,\n",
       " <selenium.webdriver.remote.webelement.WebElement (session=\"509bffa4e889110eaa42690fd04d7153\", element=\"e7d11508-6100-49da-8f3e-417d6043e22e\")>,\n",
       " <selenium.webdriver.remote.webelement.WebElement (session=\"509bffa4e889110eaa42690fd04d7153\", element=\"587694e8-fa04-47ed-ab1c-7549a3c9d64d\")>,\n",
       " <selenium.webdriver.remote.webelement.WebElement (session=\"509bffa4e889110eaa42690fd04d7153\", element=\"b917e3cc-45bb-46ed-8688-a4d6b444ba18\")>,\n",
       " <selenium.webdriver.remote.webelement.WebElement (session=\"509bffa4e889110eaa42690fd04d7153\", element=\"627e8975-61f1-4fb3-ab94-4c684f499ef8\")>]"
      ]
     },
     "execution_count": 21,
     "metadata": {},
     "output_type": "execute_result"
    }
   ],
   "source": [
    "driver.find_elements(By.CLASS_NAME, 'typewriter')"
   ]
  },
  {
   "cell_type": "code",
   "execution_count": null,
   "id": "0333462c",
   "metadata": {},
   "outputs": [],
   "source": []
  }
 ],
 "metadata": {
  "kernelspec": {
   "display_name": "Python 3 (ipykernel)",
   "language": "python",
   "name": "python3"
  },
  "language_info": {
   "codemirror_mode": {
    "name": "ipython",
    "version": 3
   },
   "file_extension": ".py",
   "mimetype": "text/x-python",
   "name": "python",
   "nbconvert_exporter": "python",
   "pygments_lexer": "ipython3",
   "version": "3.9.12"
  }
 },
 "nbformat": 4,
 "nbformat_minor": 5
}
