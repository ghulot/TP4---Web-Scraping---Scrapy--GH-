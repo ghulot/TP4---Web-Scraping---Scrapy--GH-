{
 "cells": [
  {
   "cell_type": "code",
   "execution_count": 2,
   "id": "f554e603",
   "metadata": {},
   "outputs": [],
   "source": [
    "import time\n",
    "from selenium import webdriver\n",
    "from selenium.webdriver.common.by import By\n",
    "import urllib.request\n",
    "from PIL import Image\n",
    "driver = webdriver.Chrome('./chromedriver')\n",
    "driver.get('https://www.google.com/search?q=gecko&rlz=1C1CHBF_frFR914FR914&source=lnms&tbm=isch&sa=X&ved=2ahUKEwjK3vD6kP76AhUN_4UKHX4EDa0Q_AUoAXoECAEQAw&biw=1920&bih=937&dpr=1')\n",
    "driver.find_element(By.CLASS_NAME,'VfPpkd-LgbsSe.VfPpkd-LgbsSe-OWXEXe-k8QpJ.VfPpkd-LgbsSe-OWXEXe-dgl2Hf.nCP5yc.AjY5Oe.DuMIQc.LQeN7.Nc7WLe').click()\n",
    "\n",
    "driver.find_element(By.CLASS_NAME, 'rg_i.Q4LuWd').click()\n",
    "time.sleep(1)\n",
    "\n",
    "l = driver.find_element(By.CLASS_NAME,'n3VNCb.KAlRDb').get_attribute('src')\n",
    "print(l)\n",
    "time.sleep(1)\n",
    "driver.find_element(By.CLASS_NAME, 't0PEec').click()\n",
    "time.sleep(1)\n",
    "l = driver.find_element(By.CLASS_NAME,'n3VNCb.KAlRDb').get_attribute('src')\n",
    "print(l)\n",
    "urllib.request.urlretrieve(l, \"gfg.png\")\n",
    "img = Image.open(\"gfg.png\")\n",
    "img.show()"
   ]
  }
 ],
 "metadata": {
  "kernelspec": {
   "display_name": "Python 3.9.10 64-bit",
   "language": "python",
   "name": "python3"
  },
  "language_info": {
   "codemirror_mode": {
    "name": "ipython",
    "version": 3
   },
   "file_extension": ".py",
   "mimetype": "text/x-python",
   "name": "python",
   "nbconvert_exporter": "python",
   "pygments_lexer": "ipython3",
   "version": "3.9.10"
  },
  "vscode": {
   "interpreter": {
    "hash": "f5e453cf100285227d8c2edf9c46b9c11624be3e4c897f3385868bcef0d55150"
   }
  }
 },
 "nbformat": 4,
 "nbformat_minor": 5
}
